{
 "cells": [
  {
   "cell_type": "markdown",
   "metadata": {},
   "source": [
    "# Notebook to Display the Output of the Falling Sand C++ Code\n",
    "\n",
    "- reads in a sequence of grids from a C++ file\n",
    "- displays the grids as a simple animation"
   ]
  },
  {
   "cell_type": "markdown",
   "metadata": {},
   "source": [
    "Read in the grids from the C++ implementation"
   ]
  },
  {
   "cell_type": "code",
   "execution_count": null,
   "metadata": {},
   "outputs": [],
   "source": [
    "import numpy as np\n",
    "with open('falling_sand.dat', 'r') as file:\n",
    "    lines = file.readlines()\n",
    "    all_sand = []\n",
    "    for x,line in enumerate(lines):\n",
    "        if len(line.split()) == 2:\n",
    "            Ni = int(line.split()[0])\n",
    "            Nj = int(line.split()[1])\n",
    "            all_sand.append(np.empty(shape=(Ni, Nj), dtype=int))\n",
    "        else:\n",
    "            i = int(line.split()[0])\n",
    "            j = int(line.split()[1])\n",
    "            s = int(line.split()[2])\n",
    "            all_sand[-1][i][j] = s\n",
    "            \n",
    "file.close()"
   ]
  },
  {
   "cell_type": "markdown",
   "metadata": {},
   "source": [
    "Define a function for displaying the grid"
   ]
  },
  {
   "cell_type": "code",
   "execution_count": null,
   "metadata": {},
   "outputs": [],
   "source": [
    "import matplotlib.pyplot as plt\n",
    "\n",
    "# function to display a grid\n",
    "def plot_grid(ax, grid):\n",
    "    import numpy as np\n",
    "    \n",
    "    # define the colour palette\n",
    "    palette = np.array([[255, 255, 255], # white - no sand\n",
    "                        [0, 0, 0]]) # black - sand\n",
    "\n",
    "    RGB = palette[np.array(grid)]\n",
    "    ax.imshow(RGB)\n",
    "    fig.canvas.draw()"
   ]
  },
  {
   "cell_type": "markdown",
   "metadata": {},
   "source": [
    "Display the animation"
   ]
  },
  {
   "cell_type": "code",
   "execution_count": null,
   "metadata": {
    "scrolled": false
   },
   "outputs": [],
   "source": [
    "%matplotlib notebook\n",
    "\n",
    "import time\n",
    "\n",
    "fig, ax = plt.subplots(1, 1, figsize=(5, 5))\n",
    "ax.get_xaxis().set_ticks([])\n",
    "ax.get_yaxis().set_ticks([])\n",
    "\n",
    "# display the saved grid from each time step\n",
    "for grid in all_sand:\n",
    "    plot_grid(ax, grid)\n",
    "    # pause to allow the plot to load - this parameter enables you to adjust the speed of the animation\n",
    "    time.sleep(0.05)\n",
    "    plt.show()"
   ]
  },
  {
   "cell_type": "code",
   "execution_count": null,
   "metadata": {},
   "outputs": [],
   "source": []
  },
  {
   "cell_type": "code",
   "execution_count": null,
   "metadata": {},
   "outputs": [],
   "source": []
  },
  {
   "cell_type": "code",
   "execution_count": null,
   "metadata": {},
   "outputs": [],
   "source": []
  },
  {
   "cell_type": "code",
   "execution_count": null,
   "metadata": {},
   "outputs": [],
   "source": []
  }
 ],
 "metadata": {
  "kernelspec": {
   "display_name": "Python 3 (ipykernel)",
   "language": "python",
   "name": "python3"
  },
  "language_info": {
   "codemirror_mode": {
    "name": "ipython",
    "version": 3
   },
   "file_extension": ".py",
   "mimetype": "text/x-python",
   "name": "python",
   "nbconvert_exporter": "python",
   "pygments_lexer": "ipython3",
   "version": "3.10.12"
  }
 },
 "nbformat": 4,
 "nbformat_minor": 4
}
